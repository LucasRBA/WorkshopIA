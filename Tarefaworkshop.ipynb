{
  "nbformat": 4,
  "nbformat_minor": 0,
  "metadata": {
    "colab": {
      "name": "Tarefaworkshop.ipynb",
      "provenance": []
    },
    "kernelspec": {
      "name": "python3",
      "display_name": "Python 3"
    },
    "language_info": {
      "name": "python"
    }
  },
  "cells": [
    {
      "cell_type": "code",
      "metadata": {
        "id": "jVnpDaqDB1mw"
      },
      "source": [
        "#Manipulando dados\n",
        "import pandas as pd\n",
        "\n",
        "#Visualizando\n",
        "import missingno\n",
        "import matplotlib.pyplot as plt\n",
        "import seaborn as sns\n",
        "\n",
        "\n",
        "#Utilizando machine learning \n",
        "from sklearn.model_selection import train_test_split\n",
        "from sklearn.linear_model import LinearRegression"
      ],
      "execution_count": 80,
      "outputs": []
    },
    {
      "cell_type": "markdown",
      "metadata": {
        "id": "Z7mNx44oOzuk"
      },
      "source": [
        "Carregando os dados\n"
      ]
    },
    {
      "cell_type": "code",
      "metadata": {
        "id": "COoin6EHNgci"
      },
      "source": [
        "df = pd.read_csv(\"KAG_conversion_data.csv\")\n"
      ],
      "execution_count": 3,
      "outputs": []
    },
    {
      "cell_type": "code",
      "metadata": {
        "colab": {
          "base_uri": "https://localhost:8080/"
        },
        "id": "464PtlR_PHMr",
        "outputId": "7b4b474f-ccc0-4fab-cce8-c9e26d9dfb74"
      },
      "source": [
        "type(df)"
      ],
      "execution_count": 4,
      "outputs": [
        {
          "output_type": "execute_result",
          "data": {
            "text/plain": [
              "pandas.core.frame.DataFrame"
            ]
          },
          "metadata": {
            "tags": []
          },
          "execution_count": 4
        }
      ]
    },
    {
      "cell_type": "markdown",
      "metadata": {
        "id": "FWCp8ypGNNUI"
      },
      "source": [
        "Inspeção do Projeto\n"
      ]
    },
    {
      "cell_type": "code",
      "metadata": {
        "colab": {
          "base_uri": "https://localhost:8080/",
          "height": 206
        },
        "id": "MIO7f-zkQVx9",
        "outputId": "1cbbdcd2-86ca-4d8f-85fd-8e1317e895c5"
      },
      "source": [
        "df.head()"
      ],
      "execution_count": 5,
      "outputs": [
        {
          "output_type": "execute_result",
          "data": {
            "text/html": [
              "<div>\n",
              "<style scoped>\n",
              "    .dataframe tbody tr th:only-of-type {\n",
              "        vertical-align: middle;\n",
              "    }\n",
              "\n",
              "    .dataframe tbody tr th {\n",
              "        vertical-align: top;\n",
              "    }\n",
              "\n",
              "    .dataframe thead th {\n",
              "        text-align: right;\n",
              "    }\n",
              "</style>\n",
              "<table border=\"1\" class=\"dataframe\">\n",
              "  <thead>\n",
              "    <tr style=\"text-align: right;\">\n",
              "      <th></th>\n",
              "      <th>ad_id</th>\n",
              "      <th>xyz_campaign_id</th>\n",
              "      <th>fb_campaign_id</th>\n",
              "      <th>age</th>\n",
              "      <th>gender</th>\n",
              "      <th>interest</th>\n",
              "      <th>Impressions</th>\n",
              "      <th>Clicks</th>\n",
              "      <th>Spent</th>\n",
              "      <th>Total_Conversion</th>\n",
              "      <th>Approved_Conversion</th>\n",
              "    </tr>\n",
              "  </thead>\n",
              "  <tbody>\n",
              "    <tr>\n",
              "      <th>0</th>\n",
              "      <td>708746</td>\n",
              "      <td>916</td>\n",
              "      <td>103916</td>\n",
              "      <td>30-34</td>\n",
              "      <td>M</td>\n",
              "      <td>15</td>\n",
              "      <td>7350</td>\n",
              "      <td>1</td>\n",
              "      <td>1.43</td>\n",
              "      <td>2</td>\n",
              "      <td>1</td>\n",
              "    </tr>\n",
              "    <tr>\n",
              "      <th>1</th>\n",
              "      <td>708749</td>\n",
              "      <td>916</td>\n",
              "      <td>103917</td>\n",
              "      <td>30-34</td>\n",
              "      <td>M</td>\n",
              "      <td>16</td>\n",
              "      <td>17861</td>\n",
              "      <td>2</td>\n",
              "      <td>1.82</td>\n",
              "      <td>2</td>\n",
              "      <td>0</td>\n",
              "    </tr>\n",
              "    <tr>\n",
              "      <th>2</th>\n",
              "      <td>708771</td>\n",
              "      <td>916</td>\n",
              "      <td>103920</td>\n",
              "      <td>30-34</td>\n",
              "      <td>M</td>\n",
              "      <td>20</td>\n",
              "      <td>693</td>\n",
              "      <td>0</td>\n",
              "      <td>0.00</td>\n",
              "      <td>1</td>\n",
              "      <td>0</td>\n",
              "    </tr>\n",
              "    <tr>\n",
              "      <th>3</th>\n",
              "      <td>708815</td>\n",
              "      <td>916</td>\n",
              "      <td>103928</td>\n",
              "      <td>30-34</td>\n",
              "      <td>M</td>\n",
              "      <td>28</td>\n",
              "      <td>4259</td>\n",
              "      <td>1</td>\n",
              "      <td>1.25</td>\n",
              "      <td>1</td>\n",
              "      <td>0</td>\n",
              "    </tr>\n",
              "    <tr>\n",
              "      <th>4</th>\n",
              "      <td>708818</td>\n",
              "      <td>916</td>\n",
              "      <td>103928</td>\n",
              "      <td>30-34</td>\n",
              "      <td>M</td>\n",
              "      <td>28</td>\n",
              "      <td>4133</td>\n",
              "      <td>1</td>\n",
              "      <td>1.29</td>\n",
              "      <td>1</td>\n",
              "      <td>1</td>\n",
              "    </tr>\n",
              "  </tbody>\n",
              "</table>\n",
              "</div>"
            ],
            "text/plain": [
              "    ad_id  xyz_campaign_id  ...  Total_Conversion Approved_Conversion\n",
              "0  708746              916  ...                 2                   1\n",
              "1  708749              916  ...                 2                   0\n",
              "2  708771              916  ...                 1                   0\n",
              "3  708815              916  ...                 1                   0\n",
              "4  708818              916  ...                 1                   1\n",
              "\n",
              "[5 rows x 11 columns]"
            ]
          },
          "metadata": {
            "tags": []
          },
          "execution_count": 5
        }
      ]
    },
    {
      "cell_type": "code",
      "metadata": {
        "colab": {
          "base_uri": "https://localhost:8080/",
          "height": 206
        },
        "id": "Jq3yknjbT1xz",
        "outputId": "8de84e6e-4b87-4485-8a7d-5486fc4af8f7"
      },
      "source": [
        "df.tail()"
      ],
      "execution_count": 6,
      "outputs": [
        {
          "output_type": "execute_result",
          "data": {
            "text/html": [
              "<div>\n",
              "<style scoped>\n",
              "    .dataframe tbody tr th:only-of-type {\n",
              "        vertical-align: middle;\n",
              "    }\n",
              "\n",
              "    .dataframe tbody tr th {\n",
              "        vertical-align: top;\n",
              "    }\n",
              "\n",
              "    .dataframe thead th {\n",
              "        text-align: right;\n",
              "    }\n",
              "</style>\n",
              "<table border=\"1\" class=\"dataframe\">\n",
              "  <thead>\n",
              "    <tr style=\"text-align: right;\">\n",
              "      <th></th>\n",
              "      <th>ad_id</th>\n",
              "      <th>xyz_campaign_id</th>\n",
              "      <th>fb_campaign_id</th>\n",
              "      <th>age</th>\n",
              "      <th>gender</th>\n",
              "      <th>interest</th>\n",
              "      <th>Impressions</th>\n",
              "      <th>Clicks</th>\n",
              "      <th>Spent</th>\n",
              "      <th>Total_Conversion</th>\n",
              "      <th>Approved_Conversion</th>\n",
              "    </tr>\n",
              "  </thead>\n",
              "  <tbody>\n",
              "    <tr>\n",
              "      <th>1138</th>\n",
              "      <td>1314410</td>\n",
              "      <td>1178</td>\n",
              "      <td>179977</td>\n",
              "      <td>45-49</td>\n",
              "      <td>F</td>\n",
              "      <td>109</td>\n",
              "      <td>1129773</td>\n",
              "      <td>252</td>\n",
              "      <td>358.189997</td>\n",
              "      <td>13</td>\n",
              "      <td>2</td>\n",
              "    </tr>\n",
              "    <tr>\n",
              "      <th>1139</th>\n",
              "      <td>1314411</td>\n",
              "      <td>1178</td>\n",
              "      <td>179978</td>\n",
              "      <td>45-49</td>\n",
              "      <td>F</td>\n",
              "      <td>110</td>\n",
              "      <td>637549</td>\n",
              "      <td>120</td>\n",
              "      <td>173.880003</td>\n",
              "      <td>3</td>\n",
              "      <td>0</td>\n",
              "    </tr>\n",
              "    <tr>\n",
              "      <th>1140</th>\n",
              "      <td>1314412</td>\n",
              "      <td>1178</td>\n",
              "      <td>179979</td>\n",
              "      <td>45-49</td>\n",
              "      <td>F</td>\n",
              "      <td>111</td>\n",
              "      <td>151531</td>\n",
              "      <td>28</td>\n",
              "      <td>40.289999</td>\n",
              "      <td>2</td>\n",
              "      <td>0</td>\n",
              "    </tr>\n",
              "    <tr>\n",
              "      <th>1141</th>\n",
              "      <td>1314414</td>\n",
              "      <td>1178</td>\n",
              "      <td>179981</td>\n",
              "      <td>45-49</td>\n",
              "      <td>F</td>\n",
              "      <td>113</td>\n",
              "      <td>790253</td>\n",
              "      <td>135</td>\n",
              "      <td>198.710000</td>\n",
              "      <td>8</td>\n",
              "      <td>2</td>\n",
              "    </tr>\n",
              "    <tr>\n",
              "      <th>1142</th>\n",
              "      <td>1314415</td>\n",
              "      <td>1178</td>\n",
              "      <td>179982</td>\n",
              "      <td>45-49</td>\n",
              "      <td>F</td>\n",
              "      <td>114</td>\n",
              "      <td>513161</td>\n",
              "      <td>114</td>\n",
              "      <td>165.609999</td>\n",
              "      <td>5</td>\n",
              "      <td>2</td>\n",
              "    </tr>\n",
              "  </tbody>\n",
              "</table>\n",
              "</div>"
            ],
            "text/plain": [
              "        ad_id  xyz_campaign_id  ...  Total_Conversion Approved_Conversion\n",
              "1138  1314410             1178  ...                13                   2\n",
              "1139  1314411             1178  ...                 3                   0\n",
              "1140  1314412             1178  ...                 2                   0\n",
              "1141  1314414             1178  ...                 8                   2\n",
              "1142  1314415             1178  ...                 5                   2\n",
              "\n",
              "[5 rows x 11 columns]"
            ]
          },
          "metadata": {
            "tags": []
          },
          "execution_count": 6
        }
      ]
    },
    {
      "cell_type": "code",
      "metadata": {
        "colab": {
          "base_uri": "https://localhost:8080/"
        },
        "id": "soNLomA5UTgb",
        "outputId": "cb38c196-9044-4c2e-dcec-e30ca790aa74"
      },
      "source": [
        "df.columns"
      ],
      "execution_count": 7,
      "outputs": [
        {
          "output_type": "execute_result",
          "data": {
            "text/plain": [
              "Index(['ad_id', 'xyz_campaign_id', 'fb_campaign_id', 'age', 'gender',\n",
              "       'interest', 'Impressions', 'Clicks', 'Spent', 'Total_Conversion',\n",
              "       'Approved_Conversion'],\n",
              "      dtype='object')"
            ]
          },
          "metadata": {
            "tags": []
          },
          "execution_count": 7
        }
      ]
    },
    {
      "cell_type": "code",
      "metadata": {
        "colab": {
          "base_uri": "https://localhost:8080/"
        },
        "id": "uqzOpk0rUh5Z",
        "outputId": "8ba23b30-d912-40e9-8b2c-afe60c76764e"
      },
      "source": [
        "df.index"
      ],
      "execution_count": 8,
      "outputs": [
        {
          "output_type": "execute_result",
          "data": {
            "text/plain": [
              "RangeIndex(start=0, stop=1143, step=1)"
            ]
          },
          "metadata": {
            "tags": []
          },
          "execution_count": 8
        }
      ]
    },
    {
      "cell_type": "code",
      "metadata": {
        "colab": {
          "base_uri": "https://localhost:8080/"
        },
        "id": "7l9Kt4F2UysB",
        "outputId": "77d3f35d-93bd-42c9-c845-28dc347a4806"
      },
      "source": [
        "df.shape"
      ],
      "execution_count": 9,
      "outputs": [
        {
          "output_type": "execute_result",
          "data": {
            "text/plain": [
              "(1143, 11)"
            ]
          },
          "metadata": {
            "tags": []
          },
          "execution_count": 9
        }
      ]
    },
    {
      "cell_type": "code",
      "metadata": {
        "id": "76BsoXHaU3FS"
      },
      "source": [
        "linhas, colunas = df.shape"
      ],
      "execution_count": 10,
      "outputs": []
    },
    {
      "cell_type": "code",
      "metadata": {
        "colab": {
          "base_uri": "https://localhost:8080/"
        },
        "id": "8CZqOV5FU_f6",
        "outputId": "922c32aa-4345-45d2-ebcd-de0f0b4973d0"
      },
      "source": [
        "print(f\"O numero de linhas e {linhas}\")"
      ],
      "execution_count": 11,
      "outputs": [
        {
          "output_type": "stream",
          "text": [
            "O numero de linhas e 1143\n"
          ],
          "name": "stdout"
        }
      ]
    },
    {
      "cell_type": "code",
      "metadata": {
        "colab": {
          "base_uri": "https://localhost:8080/"
        },
        "id": "KzdsUxP_VKL4",
        "outputId": "21a31092-2dfe-4821-8d7b-b372bf4fec55"
      },
      "source": [
        "linhas"
      ],
      "execution_count": 12,
      "outputs": [
        {
          "output_type": "execute_result",
          "data": {
            "text/plain": [
              "1143"
            ]
          },
          "metadata": {
            "tags": []
          },
          "execution_count": 12
        }
      ]
    },
    {
      "cell_type": "code",
      "metadata": {
        "colab": {
          "base_uri": "https://localhost:8080/"
        },
        "id": "_wsDXiPOVMco",
        "outputId": "cfb89fd9-c5c6-4035-a440-b67959e2338a"
      },
      "source": [
        "colunas"
      ],
      "execution_count": 13,
      "outputs": [
        {
          "output_type": "execute_result",
          "data": {
            "text/plain": [
              "11"
            ]
          },
          "metadata": {
            "tags": []
          },
          "execution_count": 13
        }
      ]
    },
    {
      "cell_type": "code",
      "metadata": {
        "id": "4rX8KWgkWGJI"
      },
      "source": [
        "ser_interest = df[\"interest\"]"
      ],
      "execution_count": 14,
      "outputs": []
    },
    {
      "cell_type": "code",
      "metadata": {
        "colab": {
          "base_uri": "https://localhost:8080/"
        },
        "id": "LlylsdBXWc79",
        "outputId": "94ff9e84-f27a-439a-dca9-f67e6f2b0016"
      },
      "source": [
        "type(ser_interest)"
      ],
      "execution_count": 15,
      "outputs": [
        {
          "output_type": "execute_result",
          "data": {
            "text/plain": [
              "pandas.core.series.Series"
            ]
          },
          "metadata": {
            "tags": []
          },
          "execution_count": 15
        }
      ]
    },
    {
      "cell_type": "code",
      "metadata": {
        "colab": {
          "base_uri": "https://localhost:8080/"
        },
        "id": "CSSKRAQOWnf9",
        "outputId": "714f47fe-7e04-42ce-ca14-7ad019dec341"
      },
      "source": [
        "df.info()"
      ],
      "execution_count": 16,
      "outputs": [
        {
          "output_type": "stream",
          "text": [
            "<class 'pandas.core.frame.DataFrame'>\n",
            "RangeIndex: 1143 entries, 0 to 1142\n",
            "Data columns (total 11 columns):\n",
            " #   Column               Non-Null Count  Dtype  \n",
            "---  ------               --------------  -----  \n",
            " 0   ad_id                1143 non-null   int64  \n",
            " 1   xyz_campaign_id      1143 non-null   int64  \n",
            " 2   fb_campaign_id       1143 non-null   int64  \n",
            " 3   age                  1143 non-null   object \n",
            " 4   gender               1143 non-null   object \n",
            " 5   interest             1143 non-null   int64  \n",
            " 6   Impressions          1143 non-null   int64  \n",
            " 7   Clicks               1143 non-null   int64  \n",
            " 8   Spent                1143 non-null   float64\n",
            " 9   Total_Conversion     1143 non-null   int64  \n",
            " 10  Approved_Conversion  1143 non-null   int64  \n",
            "dtypes: float64(1), int64(8), object(2)\n",
            "memory usage: 98.4+ KB\n"
          ],
          "name": "stdout"
        }
      ]
    },
    {
      "cell_type": "code",
      "metadata": {
        "colab": {
          "base_uri": "https://localhost:8080/",
          "height": 206
        },
        "id": "XArVayLyMp1x",
        "outputId": "3c1d74a4-3f9c-4ae3-9065-c700d981ff82"
      },
      "source": [
        "df.rename(columns={\"ad_id\": \"id_anuncio\", \"xyz_campaign_id\": \"id_campanha\", \"fb_campaign_id\": \"fb_campanha\"}, inplace=True)\n",
        "df.head()"
      ],
      "execution_count": 19,
      "outputs": [
        {
          "output_type": "execute_result",
          "data": {
            "text/html": [
              "<div>\n",
              "<style scoped>\n",
              "    .dataframe tbody tr th:only-of-type {\n",
              "        vertical-align: middle;\n",
              "    }\n",
              "\n",
              "    .dataframe tbody tr th {\n",
              "        vertical-align: top;\n",
              "    }\n",
              "\n",
              "    .dataframe thead th {\n",
              "        text-align: right;\n",
              "    }\n",
              "</style>\n",
              "<table border=\"1\" class=\"dataframe\">\n",
              "  <thead>\n",
              "    <tr style=\"text-align: right;\">\n",
              "      <th></th>\n",
              "      <th>id_anuncio</th>\n",
              "      <th>id_campanha</th>\n",
              "      <th>fb_campanha</th>\n",
              "      <th>age</th>\n",
              "      <th>gender</th>\n",
              "      <th>interest</th>\n",
              "      <th>Impressions</th>\n",
              "      <th>Clicks</th>\n",
              "      <th>Spent</th>\n",
              "      <th>Total_Conversion</th>\n",
              "      <th>Approved_Conversion</th>\n",
              "    </tr>\n",
              "  </thead>\n",
              "  <tbody>\n",
              "    <tr>\n",
              "      <th>0</th>\n",
              "      <td>708746</td>\n",
              "      <td>916</td>\n",
              "      <td>103916</td>\n",
              "      <td>30-34</td>\n",
              "      <td>M</td>\n",
              "      <td>15</td>\n",
              "      <td>7350</td>\n",
              "      <td>1</td>\n",
              "      <td>1.43</td>\n",
              "      <td>2</td>\n",
              "      <td>1</td>\n",
              "    </tr>\n",
              "    <tr>\n",
              "      <th>1</th>\n",
              "      <td>708749</td>\n",
              "      <td>916</td>\n",
              "      <td>103917</td>\n",
              "      <td>30-34</td>\n",
              "      <td>M</td>\n",
              "      <td>16</td>\n",
              "      <td>17861</td>\n",
              "      <td>2</td>\n",
              "      <td>1.82</td>\n",
              "      <td>2</td>\n",
              "      <td>0</td>\n",
              "    </tr>\n",
              "    <tr>\n",
              "      <th>2</th>\n",
              "      <td>708771</td>\n",
              "      <td>916</td>\n",
              "      <td>103920</td>\n",
              "      <td>30-34</td>\n",
              "      <td>M</td>\n",
              "      <td>20</td>\n",
              "      <td>693</td>\n",
              "      <td>0</td>\n",
              "      <td>0.00</td>\n",
              "      <td>1</td>\n",
              "      <td>0</td>\n",
              "    </tr>\n",
              "    <tr>\n",
              "      <th>3</th>\n",
              "      <td>708815</td>\n",
              "      <td>916</td>\n",
              "      <td>103928</td>\n",
              "      <td>30-34</td>\n",
              "      <td>M</td>\n",
              "      <td>28</td>\n",
              "      <td>4259</td>\n",
              "      <td>1</td>\n",
              "      <td>1.25</td>\n",
              "      <td>1</td>\n",
              "      <td>0</td>\n",
              "    </tr>\n",
              "    <tr>\n",
              "      <th>4</th>\n",
              "      <td>708818</td>\n",
              "      <td>916</td>\n",
              "      <td>103928</td>\n",
              "      <td>30-34</td>\n",
              "      <td>M</td>\n",
              "      <td>28</td>\n",
              "      <td>4133</td>\n",
              "      <td>1</td>\n",
              "      <td>1.29</td>\n",
              "      <td>1</td>\n",
              "      <td>1</td>\n",
              "    </tr>\n",
              "  </tbody>\n",
              "</table>\n",
              "</div>"
            ],
            "text/plain": [
              "   id_anuncio  id_campanha  ...  Total_Conversion Approved_Conversion\n",
              "0      708746          916  ...                 2                   1\n",
              "1      708749          916  ...                 2                   0\n",
              "2      708771          916  ...                 1                   0\n",
              "3      708815          916  ...                 1                   0\n",
              "4      708818          916  ...                 1                   1\n",
              "\n",
              "[5 rows x 11 columns]"
            ]
          },
          "metadata": {
            "tags": []
          },
          "execution_count": 19
        }
      ]
    },
    {
      "cell_type": "markdown",
      "metadata": {
        "id": "To8A6xfhOmzL"
      },
      "source": [
        "###Informações Estatísticas"
      ]
    },
    {
      "cell_type": "code",
      "metadata": {
        "colab": {
          "base_uri": "https://localhost:8080/",
          "height": 300
        },
        "id": "nv8SxWIBORn2",
        "outputId": "cf5b7ad6-6fbb-4a75-9d0c-9221240cae2c"
      },
      "source": [
        "df.describe()"
      ],
      "execution_count": 20,
      "outputs": [
        {
          "output_type": "execute_result",
          "data": {
            "text/html": [
              "<div>\n",
              "<style scoped>\n",
              "    .dataframe tbody tr th:only-of-type {\n",
              "        vertical-align: middle;\n",
              "    }\n",
              "\n",
              "    .dataframe tbody tr th {\n",
              "        vertical-align: top;\n",
              "    }\n",
              "\n",
              "    .dataframe thead th {\n",
              "        text-align: right;\n",
              "    }\n",
              "</style>\n",
              "<table border=\"1\" class=\"dataframe\">\n",
              "  <thead>\n",
              "    <tr style=\"text-align: right;\">\n",
              "      <th></th>\n",
              "      <th>id_anuncio</th>\n",
              "      <th>id_campanha</th>\n",
              "      <th>fb_campanha</th>\n",
              "      <th>interest</th>\n",
              "      <th>Impressions</th>\n",
              "      <th>Clicks</th>\n",
              "      <th>Spent</th>\n",
              "      <th>Total_Conversion</th>\n",
              "      <th>Approved_Conversion</th>\n",
              "    </tr>\n",
              "  </thead>\n",
              "  <tbody>\n",
              "    <tr>\n",
              "      <th>count</th>\n",
              "      <td>1.143000e+03</td>\n",
              "      <td>1143.000000</td>\n",
              "      <td>1143.000000</td>\n",
              "      <td>1143.000000</td>\n",
              "      <td>1.143000e+03</td>\n",
              "      <td>1143.000000</td>\n",
              "      <td>1143.000000</td>\n",
              "      <td>1143.000000</td>\n",
              "      <td>1143.000000</td>\n",
              "    </tr>\n",
              "    <tr>\n",
              "      <th>mean</th>\n",
              "      <td>9.872611e+05</td>\n",
              "      <td>1067.382327</td>\n",
              "      <td>133783.989501</td>\n",
              "      <td>32.766404</td>\n",
              "      <td>1.867321e+05</td>\n",
              "      <td>33.390201</td>\n",
              "      <td>51.360656</td>\n",
              "      <td>2.855643</td>\n",
              "      <td>0.944007</td>\n",
              "    </tr>\n",
              "    <tr>\n",
              "      <th>std</th>\n",
              "      <td>1.939928e+05</td>\n",
              "      <td>121.629393</td>\n",
              "      <td>20500.308622</td>\n",
              "      <td>26.952131</td>\n",
              "      <td>3.127622e+05</td>\n",
              "      <td>56.892438</td>\n",
              "      <td>86.908418</td>\n",
              "      <td>4.483593</td>\n",
              "      <td>1.737708</td>\n",
              "    </tr>\n",
              "    <tr>\n",
              "      <th>min</th>\n",
              "      <td>7.087460e+05</td>\n",
              "      <td>916.000000</td>\n",
              "      <td>103916.000000</td>\n",
              "      <td>2.000000</td>\n",
              "      <td>8.700000e+01</td>\n",
              "      <td>0.000000</td>\n",
              "      <td>0.000000</td>\n",
              "      <td>0.000000</td>\n",
              "      <td>0.000000</td>\n",
              "    </tr>\n",
              "    <tr>\n",
              "      <th>25%</th>\n",
              "      <td>7.776325e+05</td>\n",
              "      <td>936.000000</td>\n",
              "      <td>115716.000000</td>\n",
              "      <td>16.000000</td>\n",
              "      <td>6.503500e+03</td>\n",
              "      <td>1.000000</td>\n",
              "      <td>1.480000</td>\n",
              "      <td>1.000000</td>\n",
              "      <td>0.000000</td>\n",
              "    </tr>\n",
              "    <tr>\n",
              "      <th>50%</th>\n",
              "      <td>1.121185e+06</td>\n",
              "      <td>1178.000000</td>\n",
              "      <td>144549.000000</td>\n",
              "      <td>25.000000</td>\n",
              "      <td>5.150900e+04</td>\n",
              "      <td>8.000000</td>\n",
              "      <td>12.370000</td>\n",
              "      <td>1.000000</td>\n",
              "      <td>1.000000</td>\n",
              "    </tr>\n",
              "    <tr>\n",
              "      <th>75%</th>\n",
              "      <td>1.121804e+06</td>\n",
              "      <td>1178.000000</td>\n",
              "      <td>144657.500000</td>\n",
              "      <td>31.000000</td>\n",
              "      <td>2.217690e+05</td>\n",
              "      <td>37.500000</td>\n",
              "      <td>60.025000</td>\n",
              "      <td>3.000000</td>\n",
              "      <td>1.000000</td>\n",
              "    </tr>\n",
              "    <tr>\n",
              "      <th>max</th>\n",
              "      <td>1.314415e+06</td>\n",
              "      <td>1178.000000</td>\n",
              "      <td>179982.000000</td>\n",
              "      <td>114.000000</td>\n",
              "      <td>3.052003e+06</td>\n",
              "      <td>421.000000</td>\n",
              "      <td>639.949998</td>\n",
              "      <td>60.000000</td>\n",
              "      <td>21.000000</td>\n",
              "    </tr>\n",
              "  </tbody>\n",
              "</table>\n",
              "</div>"
            ],
            "text/plain": [
              "         id_anuncio  id_campanha  ...  Total_Conversion  Approved_Conversion\n",
              "count  1.143000e+03  1143.000000  ...       1143.000000          1143.000000\n",
              "mean   9.872611e+05  1067.382327  ...          2.855643             0.944007\n",
              "std    1.939928e+05   121.629393  ...          4.483593             1.737708\n",
              "min    7.087460e+05   916.000000  ...          0.000000             0.000000\n",
              "25%    7.776325e+05   936.000000  ...          1.000000             0.000000\n",
              "50%    1.121185e+06  1178.000000  ...          1.000000             1.000000\n",
              "75%    1.121804e+06  1178.000000  ...          3.000000             1.000000\n",
              "max    1.314415e+06  1178.000000  ...         60.000000            21.000000\n",
              "\n",
              "[8 rows x 9 columns]"
            ]
          },
          "metadata": {
            "tags": []
          },
          "execution_count": 20
        }
      ]
    },
    {
      "cell_type": "code",
      "metadata": {
        "colab": {
          "base_uri": "https://localhost:8080/",
          "height": 394
        },
        "id": "eqc0Rz9RPmUj",
        "outputId": "b7ba0aca-6755-4ec8-85e5-3e895cc5d23b"
      },
      "source": [
        "df.describe(include=\"all\")"
      ],
      "execution_count": 21,
      "outputs": [
        {
          "output_type": "execute_result",
          "data": {
            "text/html": [
              "<div>\n",
              "<style scoped>\n",
              "    .dataframe tbody tr th:only-of-type {\n",
              "        vertical-align: middle;\n",
              "    }\n",
              "\n",
              "    .dataframe tbody tr th {\n",
              "        vertical-align: top;\n",
              "    }\n",
              "\n",
              "    .dataframe thead th {\n",
              "        text-align: right;\n",
              "    }\n",
              "</style>\n",
              "<table border=\"1\" class=\"dataframe\">\n",
              "  <thead>\n",
              "    <tr style=\"text-align: right;\">\n",
              "      <th></th>\n",
              "      <th>id_anuncio</th>\n",
              "      <th>id_campanha</th>\n",
              "      <th>fb_campanha</th>\n",
              "      <th>age</th>\n",
              "      <th>gender</th>\n",
              "      <th>interest</th>\n",
              "      <th>Impressions</th>\n",
              "      <th>Clicks</th>\n",
              "      <th>Spent</th>\n",
              "      <th>Total_Conversion</th>\n",
              "      <th>Approved_Conversion</th>\n",
              "    </tr>\n",
              "  </thead>\n",
              "  <tbody>\n",
              "    <tr>\n",
              "      <th>count</th>\n",
              "      <td>1.143000e+03</td>\n",
              "      <td>1143.000000</td>\n",
              "      <td>1143.000000</td>\n",
              "      <td>1143</td>\n",
              "      <td>1143</td>\n",
              "      <td>1143.000000</td>\n",
              "      <td>1.143000e+03</td>\n",
              "      <td>1143.000000</td>\n",
              "      <td>1143.000000</td>\n",
              "      <td>1143.000000</td>\n",
              "      <td>1143.000000</td>\n",
              "    </tr>\n",
              "    <tr>\n",
              "      <th>unique</th>\n",
              "      <td>NaN</td>\n",
              "      <td>NaN</td>\n",
              "      <td>NaN</td>\n",
              "      <td>4</td>\n",
              "      <td>2</td>\n",
              "      <td>NaN</td>\n",
              "      <td>NaN</td>\n",
              "      <td>NaN</td>\n",
              "      <td>NaN</td>\n",
              "      <td>NaN</td>\n",
              "      <td>NaN</td>\n",
              "    </tr>\n",
              "    <tr>\n",
              "      <th>top</th>\n",
              "      <td>NaN</td>\n",
              "      <td>NaN</td>\n",
              "      <td>NaN</td>\n",
              "      <td>30-34</td>\n",
              "      <td>M</td>\n",
              "      <td>NaN</td>\n",
              "      <td>NaN</td>\n",
              "      <td>NaN</td>\n",
              "      <td>NaN</td>\n",
              "      <td>NaN</td>\n",
              "      <td>NaN</td>\n",
              "    </tr>\n",
              "    <tr>\n",
              "      <th>freq</th>\n",
              "      <td>NaN</td>\n",
              "      <td>NaN</td>\n",
              "      <td>NaN</td>\n",
              "      <td>426</td>\n",
              "      <td>592</td>\n",
              "      <td>NaN</td>\n",
              "      <td>NaN</td>\n",
              "      <td>NaN</td>\n",
              "      <td>NaN</td>\n",
              "      <td>NaN</td>\n",
              "      <td>NaN</td>\n",
              "    </tr>\n",
              "    <tr>\n",
              "      <th>mean</th>\n",
              "      <td>9.872611e+05</td>\n",
              "      <td>1067.382327</td>\n",
              "      <td>133783.989501</td>\n",
              "      <td>NaN</td>\n",
              "      <td>NaN</td>\n",
              "      <td>32.766404</td>\n",
              "      <td>1.867321e+05</td>\n",
              "      <td>33.390201</td>\n",
              "      <td>51.360656</td>\n",
              "      <td>2.855643</td>\n",
              "      <td>0.944007</td>\n",
              "    </tr>\n",
              "    <tr>\n",
              "      <th>std</th>\n",
              "      <td>1.939928e+05</td>\n",
              "      <td>121.629393</td>\n",
              "      <td>20500.308622</td>\n",
              "      <td>NaN</td>\n",
              "      <td>NaN</td>\n",
              "      <td>26.952131</td>\n",
              "      <td>3.127622e+05</td>\n",
              "      <td>56.892438</td>\n",
              "      <td>86.908418</td>\n",
              "      <td>4.483593</td>\n",
              "      <td>1.737708</td>\n",
              "    </tr>\n",
              "    <tr>\n",
              "      <th>min</th>\n",
              "      <td>7.087460e+05</td>\n",
              "      <td>916.000000</td>\n",
              "      <td>103916.000000</td>\n",
              "      <td>NaN</td>\n",
              "      <td>NaN</td>\n",
              "      <td>2.000000</td>\n",
              "      <td>8.700000e+01</td>\n",
              "      <td>0.000000</td>\n",
              "      <td>0.000000</td>\n",
              "      <td>0.000000</td>\n",
              "      <td>0.000000</td>\n",
              "    </tr>\n",
              "    <tr>\n",
              "      <th>25%</th>\n",
              "      <td>7.776325e+05</td>\n",
              "      <td>936.000000</td>\n",
              "      <td>115716.000000</td>\n",
              "      <td>NaN</td>\n",
              "      <td>NaN</td>\n",
              "      <td>16.000000</td>\n",
              "      <td>6.503500e+03</td>\n",
              "      <td>1.000000</td>\n",
              "      <td>1.480000</td>\n",
              "      <td>1.000000</td>\n",
              "      <td>0.000000</td>\n",
              "    </tr>\n",
              "    <tr>\n",
              "      <th>50%</th>\n",
              "      <td>1.121185e+06</td>\n",
              "      <td>1178.000000</td>\n",
              "      <td>144549.000000</td>\n",
              "      <td>NaN</td>\n",
              "      <td>NaN</td>\n",
              "      <td>25.000000</td>\n",
              "      <td>5.150900e+04</td>\n",
              "      <td>8.000000</td>\n",
              "      <td>12.370000</td>\n",
              "      <td>1.000000</td>\n",
              "      <td>1.000000</td>\n",
              "    </tr>\n",
              "    <tr>\n",
              "      <th>75%</th>\n",
              "      <td>1.121804e+06</td>\n",
              "      <td>1178.000000</td>\n",
              "      <td>144657.500000</td>\n",
              "      <td>NaN</td>\n",
              "      <td>NaN</td>\n",
              "      <td>31.000000</td>\n",
              "      <td>2.217690e+05</td>\n",
              "      <td>37.500000</td>\n",
              "      <td>60.025000</td>\n",
              "      <td>3.000000</td>\n",
              "      <td>1.000000</td>\n",
              "    </tr>\n",
              "    <tr>\n",
              "      <th>max</th>\n",
              "      <td>1.314415e+06</td>\n",
              "      <td>1178.000000</td>\n",
              "      <td>179982.000000</td>\n",
              "      <td>NaN</td>\n",
              "      <td>NaN</td>\n",
              "      <td>114.000000</td>\n",
              "      <td>3.052003e+06</td>\n",
              "      <td>421.000000</td>\n",
              "      <td>639.949998</td>\n",
              "      <td>60.000000</td>\n",
              "      <td>21.000000</td>\n",
              "    </tr>\n",
              "  </tbody>\n",
              "</table>\n",
              "</div>"
            ],
            "text/plain": [
              "          id_anuncio  id_campanha  ...  Total_Conversion Approved_Conversion\n",
              "count   1.143000e+03  1143.000000  ...       1143.000000         1143.000000\n",
              "unique           NaN          NaN  ...               NaN                 NaN\n",
              "top              NaN          NaN  ...               NaN                 NaN\n",
              "freq             NaN          NaN  ...               NaN                 NaN\n",
              "mean    9.872611e+05  1067.382327  ...          2.855643            0.944007\n",
              "std     1.939928e+05   121.629393  ...          4.483593            1.737708\n",
              "min     7.087460e+05   916.000000  ...          0.000000            0.000000\n",
              "25%     7.776325e+05   936.000000  ...          1.000000            0.000000\n",
              "50%     1.121185e+06  1178.000000  ...          1.000000            1.000000\n",
              "75%     1.121804e+06  1178.000000  ...          3.000000            1.000000\n",
              "max     1.314415e+06  1178.000000  ...         60.000000           21.000000\n",
              "\n",
              "[11 rows x 11 columns]"
            ]
          },
          "metadata": {
            "tags": []
          },
          "execution_count": 21
        }
      ]
    },
    {
      "cell_type": "markdown",
      "metadata": {
        "id": "aoKkfs48Qw-9"
      },
      "source": [
        "###Dados Faltantes"
      ]
    },
    {
      "cell_type": "code",
      "metadata": {
        "colab": {
          "base_uri": "https://localhost:8080/"
        },
        "id": "_qDOKtwEQuV9",
        "outputId": "b8d1921c-0a15-402f-a73c-9cbcc8c25c26"
      },
      "source": [
        "df.isnull().sum()"
      ],
      "execution_count": 26,
      "outputs": [
        {
          "output_type": "execute_result",
          "data": {
            "text/plain": [
              "id_anuncio             0\n",
              "id_campanha            0\n",
              "fb_campanha            0\n",
              "age                    0\n",
              "gender                 0\n",
              "interest               0\n",
              "Impressions            0\n",
              "Clicks                 0\n",
              "Spent                  0\n",
              "Total_Conversion       0\n",
              "Approved_Conversion    0\n",
              "dtype: int64"
            ]
          },
          "metadata": {
            "tags": []
          },
          "execution_count": 26
        }
      ]
    },
    {
      "cell_type": "code",
      "metadata": {
        "colab": {
          "base_uri": "https://localhost:8080/",
          "height": 639
        },
        "id": "AMhzv_leRdvd",
        "outputId": "b5c52fda-13eb-4515-dafc-7b7f1b6d903b"
      },
      "source": [
        "missingno.matrix(df, figsize= (30,10))"
      ],
      "execution_count": 29,
      "outputs": [
        {
          "output_type": "execute_result",
          "data": {
            "text/plain": [
              "<matplotlib.axes._subplots.AxesSubplot at 0x7fb2e2ef0b50>"
            ]
          },
          "metadata": {
            "tags": []
          },
          "execution_count": 29
        },
        {
          "output_type": "display_data",
          "data": {
            "image/png": "[encoded data removed]",
            "text/plain": [
              "<Figure size 2160x720 with 2 Axes>"
            ]
          },
          "metadata": {
            "tags": [],
            "needs_background": "light"
          }
        }
      ]
    },
    {
      "cell_type": "markdown",
      "metadata": {
        "id": "msYt3ZeeS4uQ"
      },
      "source": [
        "###Outliers(dados discrepantes)"
      ]
    },
    {
      "cell_type": "code",
      "metadata": {
        "colab": {
          "base_uri": "https://localhost:8080/",
          "height": 530
        },
        "id": "PIe2QWrISIhk",
        "outputId": "f171ad15-8be0-4fd6-84b4-09c3086a809c"
      },
      "source": [
        "plt.figure(figsize=(30,10))\n",
        "df.boxplot()\n",
        "plt.show()"
      ],
      "execution_count": 32,
      "outputs": [
        {
          "output_type": "display_data",
          "data": {
            "image/png": "[encoded data removed]",
            "text/plain": [
              "<Figure size 2160x720 with 1 Axes>"
            ]
          },
          "metadata": {
            "tags": [],
            "needs_background": "light"
          }
        }
      ]
    },
    {
      "cell_type": "markdown",
      "metadata": {
        "id": "YKj9LVTDVinH"
      },
      "source": [
        "###Duplicatas"
      ]
    },
    {
      "cell_type": "code",
      "metadata": {
        "colab": {
          "base_uri": "https://localhost:8080/",
          "height": 49
        },
        "id": "NbA0GNBeVkt8",
        "outputId": "fcce26ef-d5c2-4520-a284-39a9c520e286"
      },
      "source": [
        "df[df.duplicated()]"
      ],
      "execution_count": 34,
      "outputs": [
        {
          "output_type": "execute_result",
          "data": {
            "text/html": [
              "<div>\n",
              "<style scoped>\n",
              "    .dataframe tbody tr th:only-of-type {\n",
              "        vertical-align: middle;\n",
              "    }\n",
              "\n",
              "    .dataframe tbody tr th {\n",
              "        vertical-align: top;\n",
              "    }\n",
              "\n",
              "    .dataframe thead th {\n",
              "        text-align: right;\n",
              "    }\n",
              "</style>\n",
              "<table border=\"1\" class=\"dataframe\">\n",
              "  <thead>\n",
              "    <tr style=\"text-align: right;\">\n",
              "      <th></th>\n",
              "      <th>id_anuncio</th>\n",
              "      <th>id_campanha</th>\n",
              "      <th>fb_campanha</th>\n",
              "      <th>age</th>\n",
              "      <th>gender</th>\n",
              "      <th>interest</th>\n",
              "      <th>Impressions</th>\n",
              "      <th>Clicks</th>\n",
              "      <th>Spent</th>\n",
              "      <th>Total_Conversion</th>\n",
              "      <th>Approved_Conversion</th>\n",
              "    </tr>\n",
              "  </thead>\n",
              "  <tbody>\n",
              "  </tbody>\n",
              "</table>\n",
              "</div>"
            ],
            "text/plain": [
              "Empty DataFrame\n",
              "Columns: [id_anuncio, id_campanha, fb_campanha, age, gender, interest, Impressions, Clicks, Spent, Total_Conversion, Approved_Conversion]\n",
              "Index: []"
            ]
          },
          "metadata": {
            "tags": []
          },
          "execution_count": 34
        }
      ]
    },
    {
      "cell_type": "markdown",
      "metadata": {
        "id": "SfAPxBYGahSL"
      },
      "source": [
        "###Matriz Correlação"
      ]
    },
    {
      "cell_type": "code",
      "metadata": {
        "colab": {
          "base_uri": "https://localhost:8080/",
          "height": 694
        },
        "id": "YSsKBemwaj_1",
        "outputId": "d60caf2c-a28b-44f0-86ee-a4350b353f3b"
      },
      "source": [
        "plt.figure(figsize=(12,10))\n",
        "corr_matrix = df.corr()\n",
        "sns.heatmap(corr_matrix, annot=True, cmap=plt.cm.Reds)\n",
        "plt.show()"
      ],
      "execution_count": 37,
      "outputs": [
        {
          "output_type": "display_data",
          "data": {
            "image/png": "[encoded data removed]",
            "text/plain": [
              "<Figure size 864x720 with 2 Axes>"
            ]
          },
          "metadata": {
            "tags": [],
            "needs_background": "light"
          }
        }
      ]
    },
    {
      "cell_type": "markdown",
      "metadata": {
        "id": "LlNeZi_bcQWS"
      },
      "source": [
        "###Avaliando as Features"
      ]
    },
    {
      "cell_type": "markdown",
      "metadata": {
        "id": "uHgJdjx8c4Ty"
      },
      "source": [
        "###id_campanha - ID associado a cada campanha da empresa XYZ"
      ]
    },
    {
      "cell_type": "code",
      "metadata": {
        "colab": {
          "base_uri": "https://localhost:8080/"
        },
        "id": "_u0mrLfScYWQ",
        "outputId": "4677f2af-bd57-48f1-81fb-103dc75be162"
      },
      "source": [
        "df[\"id_campanha\"].nunique()"
      ],
      "execution_count": 38,
      "outputs": [
        {
          "output_type": "execute_result",
          "data": {
            "text/plain": [
              "3"
            ]
          },
          "metadata": {
            "tags": []
          },
          "execution_count": 38
        }
      ]
    },
    {
      "cell_type": "code",
      "metadata": {
        "colab": {
          "base_uri": "https://localhost:8080/"
        },
        "id": "cqwh5HaCc3-r",
        "outputId": "1c310807-cfe8-4c7f-ca1e-db450a62edd1"
      },
      "source": [
        "df[\"id_campanha\"].unique()"
      ],
      "execution_count": 39,
      "outputs": [
        {
          "output_type": "execute_result",
          "data": {
            "text/plain": [
              "array([ 916,  936, 1178])"
            ]
          },
          "metadata": {
            "tags": []
          },
          "execution_count": 39
        }
      ]
    },
    {
      "cell_type": "code",
      "metadata": {
        "id": "vnIl1ZWxeJyp"
      },
      "source": [
        "df[\"id_campanha\"].replace({916:\"campanha1\", 936:\"campanha2\", 1178:\"campanha3\"}, inplace=True)"
      ],
      "execution_count": 44,
      "outputs": []
    },
    {
      "cell_type": "code",
      "metadata": {
        "colab": {
          "base_uri": "https://localhost:8080/",
          "height": 206
        },
        "id": "I7Tt2yT-fzGN",
        "outputId": "3b2b3c6f-d74e-4005-993b-6ba6a15e1b76"
      },
      "source": [
        "df.head()"
      ],
      "execution_count": 45,
      "outputs": [
        {
          "output_type": "execute_result",
          "data": {
            "text/html": [
              "<div>\n",
              "<style scoped>\n",
              "    .dataframe tbody tr th:only-of-type {\n",
              "        vertical-align: middle;\n",
              "    }\n",
              "\n",
              "    .dataframe tbody tr th {\n",
              "        vertical-align: top;\n",
              "    }\n",
              "\n",
              "    .dataframe thead th {\n",
              "        text-align: right;\n",
              "    }\n",
              "</style>\n",
              "<table border=\"1\" class=\"dataframe\">\n",
              "  <thead>\n",
              "    <tr style=\"text-align: right;\">\n",
              "      <th></th>\n",
              "      <th>id_anuncio</th>\n",
              "      <th>id_campanha</th>\n",
              "      <th>fb_campanha</th>\n",
              "      <th>age</th>\n",
              "      <th>gender</th>\n",
              "      <th>interest</th>\n",
              "      <th>Impressions</th>\n",
              "      <th>Clicks</th>\n",
              "      <th>Spent</th>\n",
              "      <th>Total_Conversion</th>\n",
              "      <th>Approved_Conversion</th>\n",
              "    </tr>\n",
              "  </thead>\n",
              "  <tbody>\n",
              "    <tr>\n",
              "      <th>0</th>\n",
              "      <td>708746</td>\n",
              "      <td>campanha1</td>\n",
              "      <td>103916</td>\n",
              "      <td>30-34</td>\n",
              "      <td>M</td>\n",
              "      <td>15</td>\n",
              "      <td>7350</td>\n",
              "      <td>1</td>\n",
              "      <td>1.43</td>\n",
              "      <td>2</td>\n",
              "      <td>1</td>\n",
              "    </tr>\n",
              "    <tr>\n",
              "      <th>1</th>\n",
              "      <td>708749</td>\n",
              "      <td>campanha1</td>\n",
              "      <td>103917</td>\n",
              "      <td>30-34</td>\n",
              "      <td>M</td>\n",
              "      <td>16</td>\n",
              "      <td>17861</td>\n",
              "      <td>2</td>\n",
              "      <td>1.82</td>\n",
              "      <td>2</td>\n",
              "      <td>0</td>\n",
              "    </tr>\n",
              "    <tr>\n",
              "      <th>2</th>\n",
              "      <td>708771</td>\n",
              "      <td>campanha1</td>\n",
              "      <td>103920</td>\n",
              "      <td>30-34</td>\n",
              "      <td>M</td>\n",
              "      <td>20</td>\n",
              "      <td>693</td>\n",
              "      <td>0</td>\n",
              "      <td>0.00</td>\n",
              "      <td>1</td>\n",
              "      <td>0</td>\n",
              "    </tr>\n",
              "    <tr>\n",
              "      <th>3</th>\n",
              "      <td>708815</td>\n",
              "      <td>campanha1</td>\n",
              "      <td>103928</td>\n",
              "      <td>30-34</td>\n",
              "      <td>M</td>\n",
              "      <td>28</td>\n",
              "      <td>4259</td>\n",
              "      <td>1</td>\n",
              "      <td>1.25</td>\n",
              "      <td>1</td>\n",
              "      <td>0</td>\n",
              "    </tr>\n",
              "    <tr>\n",
              "      <th>4</th>\n",
              "      <td>708818</td>\n",
              "      <td>campanha1</td>\n",
              "      <td>103928</td>\n",
              "      <td>30-34</td>\n",
              "      <td>M</td>\n",
              "      <td>28</td>\n",
              "      <td>4133</td>\n",
              "      <td>1</td>\n",
              "      <td>1.29</td>\n",
              "      <td>1</td>\n",
              "      <td>1</td>\n",
              "    </tr>\n",
              "  </tbody>\n",
              "</table>\n",
              "</div>"
            ],
            "text/plain": [
              "   id_anuncio id_campanha  ...  Total_Conversion Approved_Conversion\n",
              "0      708746   campanha1  ...                 2                   1\n",
              "1      708749   campanha1  ...                 2                   0\n",
              "2      708771   campanha1  ...                 1                   0\n",
              "3      708815   campanha1  ...                 1                   0\n",
              "4      708818   campanha1  ...                 1                   1\n",
              "\n",
              "[5 rows x 11 columns]"
            ]
          },
          "metadata": {
            "tags": []
          },
          "execution_count": 45
        }
      ]
    },
    {
      "cell_type": "code",
      "metadata": {
        "colab": {
          "base_uri": "https://localhost:8080/",
          "height": 206
        },
        "id": "pI30CWEQf3Nd",
        "outputId": "6aa71440-fd4b-49ba-ecb6-ff74a2450919"
      },
      "source": [
        "df.tail()"
      ],
      "execution_count": 46,
      "outputs": [
        {
          "output_type": "execute_result",
          "data": {
            "text/html": [
              "<div>\n",
              "<style scoped>\n",
              "    .dataframe tbody tr th:only-of-type {\n",
              "        vertical-align: middle;\n",
              "    }\n",
              "\n",
              "    .dataframe tbody tr th {\n",
              "        vertical-align: top;\n",
              "    }\n",
              "\n",
              "    .dataframe thead th {\n",
              "        text-align: right;\n",
              "    }\n",
              "</style>\n",
              "<table border=\"1\" class=\"dataframe\">\n",
              "  <thead>\n",
              "    <tr style=\"text-align: right;\">\n",
              "      <th></th>\n",
              "      <th>id_anuncio</th>\n",
              "      <th>id_campanha</th>\n",
              "      <th>fb_campanha</th>\n",
              "      <th>age</th>\n",
              "      <th>gender</th>\n",
              "      <th>interest</th>\n",
              "      <th>Impressions</th>\n",
              "      <th>Clicks</th>\n",
              "      <th>Spent</th>\n",
              "      <th>Total_Conversion</th>\n",
              "      <th>Approved_Conversion</th>\n",
              "    </tr>\n",
              "  </thead>\n",
              "  <tbody>\n",
              "    <tr>\n",
              "      <th>1138</th>\n",
              "      <td>1314410</td>\n",
              "      <td>campanha3</td>\n",
              "      <td>179977</td>\n",
              "      <td>45-49</td>\n",
              "      <td>F</td>\n",
              "      <td>109</td>\n",
              "      <td>1129773</td>\n",
              "      <td>252</td>\n",
              "      <td>358.189997</td>\n",
              "      <td>13</td>\n",
              "      <td>2</td>\n",
              "    </tr>\n",
              "    <tr>\n",
              "      <th>1139</th>\n",
              "      <td>1314411</td>\n",
              "      <td>campanha3</td>\n",
              "      <td>179978</td>\n",
              "      <td>45-49</td>\n",
              "      <td>F</td>\n",
              "      <td>110</td>\n",
              "      <td>637549</td>\n",
              "      <td>120</td>\n",
              "      <td>173.880003</td>\n",
              "      <td>3</td>\n",
              "      <td>0</td>\n",
              "    </tr>\n",
              "    <tr>\n",
              "      <th>1140</th>\n",
              "      <td>1314412</td>\n",
              "      <td>campanha3</td>\n",
              "      <td>179979</td>\n",
              "      <td>45-49</td>\n",
              "      <td>F</td>\n",
              "      <td>111</td>\n",
              "      <td>151531</td>\n",
              "      <td>28</td>\n",
              "      <td>40.289999</td>\n",
              "      <td>2</td>\n",
              "      <td>0</td>\n",
              "    </tr>\n",
              "    <tr>\n",
              "      <th>1141</th>\n",
              "      <td>1314414</td>\n",
              "      <td>campanha3</td>\n",
              "      <td>179981</td>\n",
              "      <td>45-49</td>\n",
              "      <td>F</td>\n",
              "      <td>113</td>\n",
              "      <td>790253</td>\n",
              "      <td>135</td>\n",
              "      <td>198.710000</td>\n",
              "      <td>8</td>\n",
              "      <td>2</td>\n",
              "    </tr>\n",
              "    <tr>\n",
              "      <th>1142</th>\n",
              "      <td>1314415</td>\n",
              "      <td>campanha3</td>\n",
              "      <td>179982</td>\n",
              "      <td>45-49</td>\n",
              "      <td>F</td>\n",
              "      <td>114</td>\n",
              "      <td>513161</td>\n",
              "      <td>114</td>\n",
              "      <td>165.609999</td>\n",
              "      <td>5</td>\n",
              "      <td>2</td>\n",
              "    </tr>\n",
              "  </tbody>\n",
              "</table>\n",
              "</div>"
            ],
            "text/plain": [
              "      id_anuncio id_campanha  ...  Total_Conversion Approved_Conversion\n",
              "1138     1314410   campanha3  ...                13                   2\n",
              "1139     1314411   campanha3  ...                 3                   0\n",
              "1140     1314412   campanha3  ...                 2                   0\n",
              "1141     1314414   campanha3  ...                 8                   2\n",
              "1142     1314415   campanha3  ...                 5                   2\n",
              "\n",
              "[5 rows x 11 columns]"
            ]
          },
          "metadata": {
            "tags": []
          },
          "execution_count": 46
        }
      ]
    },
    {
      "cell_type": "code",
      "metadata": {
        "colab": {
          "base_uri": "https://localhost:8080/",
          "height": 606
        },
        "id": "9WGWj2d_f6ST",
        "outputId": "7eba0f9f-d376-41c6-ba5d-051a84958a5b"
      },
      "source": [
        "plt.figure(figsize=(12,10))\n",
        "sns.countplot(x=\"id_campanha\",data=df)\n",
        "plt.show()"
      ],
      "execution_count": 48,
      "outputs": [
        {
          "output_type": "display_data",
          "data": {
            "image/png": "[encoded data removed]",
            "text/plain": [
              "<Figure size 864x720 with 1 Axes>"
            ]
          },
          "metadata": {
            "tags": [],
            "needs_background": "light"
          }
        }
      ]
    },
    {
      "cell_type": "markdown",
      "metadata": {
        "id": "xxrIiMVkggKa"
      },
      "source": [
        "####Campanha 3 tem o maior número de anúncios"
      ]
    },
    {
      "cell_type": "code",
      "metadata": {
        "colab": {
          "base_uri": "https://localhost:8080/",
          "height": 606
        },
        "id": "h8cfPgmegokZ",
        "outputId": "643f11f8-676e-4f1c-ee41-f03530f0714a"
      },
      "source": [
        "plt.figure(figsize=(12,10))\n",
        "plt.bar(df[\"id_campanha\"], df[\"Approved_Conversion\"])\n",
        "plt.ylabel(\"Compras\")\n",
        "plt.xlabel(\"Campanhas/compras\")\n",
        "plt.show()"
      ],
      "execution_count": 49,
      "outputs": [
        {
          "output_type": "display_data",
          "data": {
            "image/png": "[encoded data removed]",
            "text/plain": [
              "<Figure size 864x720 with 1 Axes>"
            ]
          },
          "metadata": {
            "tags": [],
            "needs_background": "light"
          }
        }
      ]
    },
    {
      "cell_type": "markdown",
      "metadata": {
        "id": "FgvXiO_phj32"
      },
      "source": [
        "####Idade - idade da pessoa a quem o anúncio é mostrado"
      ]
    },
    {
      "cell_type": "code",
      "metadata": {
        "colab": {
          "base_uri": "https://localhost:8080/"
        },
        "id": "oMKBmW7phbow",
        "outputId": "d29d7349-88a8-4360-f143-276cb0bb6303"
      },
      "source": [
        "df[\"age\"].nunique()"
      ],
      "execution_count": 50,
      "outputs": [
        {
          "output_type": "execute_result",
          "data": {
            "text/plain": [
              "4"
            ]
          },
          "metadata": {
            "tags": []
          },
          "execution_count": 50
        }
      ]
    },
    {
      "cell_type": "code",
      "metadata": {
        "colab": {
          "base_uri": "https://localhost:8080/"
        },
        "id": "2Hjuz-J4h1fj",
        "outputId": "df46a4b8-110c-4b49-d03b-4187e1f8085f"
      },
      "source": [
        "df[\"age\"].unique()"
      ],
      "execution_count": 51,
      "outputs": [
        {
          "output_type": "execute_result",
          "data": {
            "text/plain": [
              "array(['30-34', '35-39', '40-44', '45-49'], dtype=object)"
            ]
          },
          "metadata": {
            "tags": []
          },
          "execution_count": 51
        }
      ]
    },
    {
      "cell_type": "code",
      "metadata": {
        "colab": {
          "base_uri": "https://localhost:8080/",
          "height": 606
        },
        "id": "k_FqGk-Ch41v",
        "outputId": "c6c2dc2b-3326-4802-802c-bf845c65ce71"
      },
      "source": [
        "plt.figure(figsize=(12,10))\n",
        "sns.countplot(x = \"age\", data=df)\n",
        "plt.show()"
      ],
      "execution_count": 52,
      "outputs": [
        {
          "output_type": "display_data",
          "data": {
            "image/png": "[encoded data removed]",
            "text/plain": [
              "<Figure size 864x720 with 1 Axes>"
            ]
          },
          "metadata": {
            "tags": [],
            "needs_background": "light"
          }
        }
      ]
    },
    {
      "cell_type": "code",
      "metadata": {
        "colab": {
          "base_uri": "https://localhost:8080/",
          "height": 609
        },
        "id": "qBUUD4D0iZsG",
        "outputId": "482dc54a-2ee1-4bed-d0da-942de57ee114"
      },
      "source": [
        "plt.figure(figsize=(12,10))\n",
        "tips = sns.load_dataset(\"tips\")\n",
        "sns.barplot(x=df [\"id_campanha\"], y=df[\"Approved_Conversion\"], hue=df[\"age\"], data=tips)\n",
        "plt.show()"
      ],
      "execution_count": 53,
      "outputs": [
        {
          "output_type": "display_data",
          "data": {
            "image/png": "[encoded data removed]",
            "text/plain": [
              "<Figure size 864x720 with 1 Axes>"
            ]
          },
          "metadata": {
            "tags": [],
            "needs_background": "light"
          }
        }
      ]
    },
    {
      "cell_type": "markdown",
      "metadata": {
        "id": "t-S8hx0rjS9H"
      },
      "source": [
        "####Gênero - sexo da pessoa que deseja que o anúncio seja mostrado"
      ]
    },
    {
      "cell_type": "code",
      "metadata": {
        "colab": {
          "base_uri": "https://localhost:8080/",
          "height": 606
        },
        "id": "fA0QDXu5jIL-",
        "outputId": "a929e5be-1eff-4249-c86e-0fa6430d304a"
      },
      "source": [
        "plt.figure(figsize=(12,10))\n",
        "sns.countplot(x=\"gender\", data=df)\n",
        "plt.show()"
      ],
      "execution_count": 54,
      "outputs": [
        {
          "output_type": "display_data",
          "data": {
            "image/png": "[encoded data removed]",
            "text/plain": [
              "<Figure size 864x720 with 1 Axes>"
            ]
          },
          "metadata": {
            "tags": [],
            "needs_background": "light"
          }
        }
      ]
    },
    {
      "cell_type": "code",
      "metadata": {
        "colab": {
          "base_uri": "https://localhost:8080/",
          "height": 606
        },
        "id": "tftQAMByj_KV",
        "outputId": "3971f9e0-d6ef-4c49-cffd-bede3c7c786f"
      },
      "source": [
        "plt.figure(figsize=(12,10))\n",
        "tips = sns.load_dataset(\"tips\")\n",
        "sns.barplot(x=df [\"id_campanha\"], y=df[\"Approved_Conversion\"], hue=df[\"gender\"], data=tips)\n",
        "plt.show()"
      ],
      "execution_count": 55,
      "outputs": [
        {
          "output_type": "display_data",
          "data": {
            "image/png": "[encoded data removed]",
            "text/plain": [
              "<Figure size 864x720 with 1 Axes>"
            ]
          },
          "metadata": {
            "tags": [],
            "needs_background": "light"
          }
        }
      ]
    },
    {
      "cell_type": "markdown",
      "metadata": {
        "id": "nRSjkLACk6Io"
      },
      "source": [
        "##Etapa 4: Modelagem/Machine Learning"
      ]
    },
    {
      "cell_type": "code",
      "metadata": {
        "colab": {
          "base_uri": "https://localhost:8080/"
        },
        "id": "RbMTgCrmlCXu",
        "outputId": "6d9c42d9-9401-4ae6-a2c3-18acb636bac7"
      },
      "source": [
        "df.shape"
      ],
      "execution_count": 57,
      "outputs": [
        {
          "output_type": "execute_result",
          "data": {
            "text/plain": [
              "(1143, 11)"
            ]
          },
          "metadata": {
            "tags": []
          },
          "execution_count": 57
        }
      ]
    },
    {
      "cell_type": "code",
      "metadata": {
        "id": "Zd4vfQhtlNeW"
      },
      "source": [
        "amostra_df = df.sample(n=20)"
      ],
      "execution_count": 58,
      "outputs": []
    },
    {
      "cell_type": "code",
      "metadata": {
        "colab": {
          "base_uri": "https://localhost:8080/"
        },
        "id": "nw5cEIJ4llFG",
        "outputId": "0de62e2d-e6c7-4396-e87a-6250ea1fec7b"
      },
      "source": [
        "amostra_df.shape"
      ],
      "execution_count": 59,
      "outputs": [
        {
          "output_type": "execute_result",
          "data": {
            "text/plain": [
              "(20, 11)"
            ]
          },
          "metadata": {
            "tags": []
          },
          "execution_count": 59
        }
      ]
    },
    {
      "cell_type": "code",
      "metadata": {
        "colab": {
          "base_uri": "https://localhost:8080/",
          "height": 303
        },
        "id": "tZGVpD3Ulpf8",
        "outputId": "daace1a8-079a-4b26-eb5b-c217988de347"
      },
      "source": [
        "sns.pairplot(amostra_df, x_vars=[\"Clicks\"], y_vars=[\"Spent\"], height=4, kind=\"scatter\")\n",
        "plt.show()"
      ],
      "execution_count": 60,
      "outputs": [
        {
          "output_type": "display_data",
          "data": {
            "image/png": "[encoded data removed]",
            "text/plain": [
              "<Figure size 288x288 with 1 Axes>"
            ]
          },
          "metadata": {
            "tags": [],
            "needs_background": "light"
          }
        }
      ]
    },
    {
      "cell_type": "code",
      "metadata": {
        "colab": {
          "base_uri": "https://localhost:8080/",
          "height": 303
        },
        "id": "8ijPMTnbmNC2",
        "outputId": "414313ba-067c-415a-c1b7-30299e7a13fc"
      },
      "source": [
        "sns.pairplot(df, x_vars=[\"Clicks\"], y_vars=[\"Spent\"], height=4, kind=\"scatter\")\n",
        "plt.show()"
      ],
      "execution_count": 61,
      "outputs": [
        {
          "output_type": "display_data",
          "data": {
            "image/png": "[encoded data removed]",
            "text/plain": [
              "<Figure size 288x288 with 1 Axes>"
            ]
          },
          "metadata": {
            "tags": [],
            "needs_background": "light"
          }
        }
      ]
    },
    {
      "cell_type": "code",
      "metadata": {
        "id": "bbNByn4vnI8l"
      },
      "source": [
        "df = df.replace('30-34',0.0011)\n",
        "df = df.replace('35-39',0.0012)\n",
        "df = df.replace('40-44',0.0013)\n",
        "df = df.replace('45-49',0.0014)"
      ],
      "execution_count": 62,
      "outputs": []
    },
    {
      "cell_type": "code",
      "metadata": {
        "colab": {
          "base_uri": "https://localhost:8080/",
          "height": 206
        },
        "id": "KarKREemnx-5",
        "outputId": "a656f802-22de-43d4-ae6a-8ee7135ff00c"
      },
      "source": [
        "df.head()"
      ],
      "execution_count": 63,
      "outputs": [
        {
          "output_type": "execute_result",
          "data": {
            "text/html": [
              "<div>\n",
              "<style scoped>\n",
              "    .dataframe tbody tr th:only-of-type {\n",
              "        vertical-align: middle;\n",
              "    }\n",
              "\n",
              "    .dataframe tbody tr th {\n",
              "        vertical-align: top;\n",
              "    }\n",
              "\n",
              "    .dataframe thead th {\n",
              "        text-align: right;\n",
              "    }\n",
              "</style>\n",
              "<table border=\"1\" class=\"dataframe\">\n",
              "  <thead>\n",
              "    <tr style=\"text-align: right;\">\n",
              "      <th></th>\n",
              "      <th>id_anuncio</th>\n",
              "      <th>id_campanha</th>\n",
              "      <th>fb_campanha</th>\n",
              "      <th>age</th>\n",
              "      <th>gender</th>\n",
              "      <th>interest</th>\n",
              "      <th>Impressions</th>\n",
              "      <th>Clicks</th>\n",
              "      <th>Spent</th>\n",
              "      <th>Total_Conversion</th>\n",
              "      <th>Approved_Conversion</th>\n",
              "    </tr>\n",
              "  </thead>\n",
              "  <tbody>\n",
              "    <tr>\n",
              "      <th>0</th>\n",
              "      <td>708746</td>\n",
              "      <td>campanha1</td>\n",
              "      <td>103916</td>\n",
              "      <td>0.0011</td>\n",
              "      <td>M</td>\n",
              "      <td>15</td>\n",
              "      <td>7350</td>\n",
              "      <td>1</td>\n",
              "      <td>1.43</td>\n",
              "      <td>2</td>\n",
              "      <td>1</td>\n",
              "    </tr>\n",
              "    <tr>\n",
              "      <th>1</th>\n",
              "      <td>708749</td>\n",
              "      <td>campanha1</td>\n",
              "      <td>103917</td>\n",
              "      <td>0.0011</td>\n",
              "      <td>M</td>\n",
              "      <td>16</td>\n",
              "      <td>17861</td>\n",
              "      <td>2</td>\n",
              "      <td>1.82</td>\n",
              "      <td>2</td>\n",
              "      <td>0</td>\n",
              "    </tr>\n",
              "    <tr>\n",
              "      <th>2</th>\n",
              "      <td>708771</td>\n",
              "      <td>campanha1</td>\n",
              "      <td>103920</td>\n",
              "      <td>0.0011</td>\n",
              "      <td>M</td>\n",
              "      <td>20</td>\n",
              "      <td>693</td>\n",
              "      <td>0</td>\n",
              "      <td>0.00</td>\n",
              "      <td>1</td>\n",
              "      <td>0</td>\n",
              "    </tr>\n",
              "    <tr>\n",
              "      <th>3</th>\n",
              "      <td>708815</td>\n",
              "      <td>campanha1</td>\n",
              "      <td>103928</td>\n",
              "      <td>0.0011</td>\n",
              "      <td>M</td>\n",
              "      <td>28</td>\n",
              "      <td>4259</td>\n",
              "      <td>1</td>\n",
              "      <td>1.25</td>\n",
              "      <td>1</td>\n",
              "      <td>0</td>\n",
              "    </tr>\n",
              "    <tr>\n",
              "      <th>4</th>\n",
              "      <td>708818</td>\n",
              "      <td>campanha1</td>\n",
              "      <td>103928</td>\n",
              "      <td>0.0011</td>\n",
              "      <td>M</td>\n",
              "      <td>28</td>\n",
              "      <td>4133</td>\n",
              "      <td>1</td>\n",
              "      <td>1.29</td>\n",
              "      <td>1</td>\n",
              "      <td>1</td>\n",
              "    </tr>\n",
              "  </tbody>\n",
              "</table>\n",
              "</div>"
            ],
            "text/plain": [
              "   id_anuncio id_campanha  ...  Total_Conversion  Approved_Conversion\n",
              "0      708746   campanha1  ...                 2                    1\n",
              "1      708749   campanha1  ...                 2                    0\n",
              "2      708771   campanha1  ...                 1                    0\n",
              "3      708815   campanha1  ...                 1                    0\n",
              "4      708818   campanha1  ...                 1                    1\n",
              "\n",
              "[5 rows x 11 columns]"
            ]
          },
          "metadata": {
            "tags": []
          },
          "execution_count": 63
        }
      ]
    },
    {
      "cell_type": "code",
      "metadata": {
        "colab": {
          "base_uri": "https://localhost:8080/",
          "height": 206
        },
        "id": "jJh8qJBRn1pf",
        "outputId": "3d869091-4dc1-4262-8cd5-1da06d324242"
      },
      "source": [
        "df.tail()"
      ],
      "execution_count": 64,
      "outputs": [
        {
          "output_type": "execute_result",
          "data": {
            "text/html": [
              "<div>\n",
              "<style scoped>\n",
              "    .dataframe tbody tr th:only-of-type {\n",
              "        vertical-align: middle;\n",
              "    }\n",
              "\n",
              "    .dataframe tbody tr th {\n",
              "        vertical-align: top;\n",
              "    }\n",
              "\n",
              "    .dataframe thead th {\n",
              "        text-align: right;\n",
              "    }\n",
              "</style>\n",
              "<table border=\"1\" class=\"dataframe\">\n",
              "  <thead>\n",
              "    <tr style=\"text-align: right;\">\n",
              "      <th></th>\n",
              "      <th>id_anuncio</th>\n",
              "      <th>id_campanha</th>\n",
              "      <th>fb_campanha</th>\n",
              "      <th>age</th>\n",
              "      <th>gender</th>\n",
              "      <th>interest</th>\n",
              "      <th>Impressions</th>\n",
              "      <th>Clicks</th>\n",
              "      <th>Spent</th>\n",
              "      <th>Total_Conversion</th>\n",
              "      <th>Approved_Conversion</th>\n",
              "    </tr>\n",
              "  </thead>\n",
              "  <tbody>\n",
              "    <tr>\n",
              "      <th>1138</th>\n",
              "      <td>1314410</td>\n",
              "      <td>campanha3</td>\n",
              "      <td>179977</td>\n",
              "      <td>0.0014</td>\n",
              "      <td>F</td>\n",
              "      <td>109</td>\n",
              "      <td>1129773</td>\n",
              "      <td>252</td>\n",
              "      <td>358.189997</td>\n",
              "      <td>13</td>\n",
              "      <td>2</td>\n",
              "    </tr>\n",
              "    <tr>\n",
              "      <th>1139</th>\n",
              "      <td>1314411</td>\n",
              "      <td>campanha3</td>\n",
              "      <td>179978</td>\n",
              "      <td>0.0014</td>\n",
              "      <td>F</td>\n",
              "      <td>110</td>\n",
              "      <td>637549</td>\n",
              "      <td>120</td>\n",
              "      <td>173.880003</td>\n",
              "      <td>3</td>\n",
              "      <td>0</td>\n",
              "    </tr>\n",
              "    <tr>\n",
              "      <th>1140</th>\n",
              "      <td>1314412</td>\n",
              "      <td>campanha3</td>\n",
              "      <td>179979</td>\n",
              "      <td>0.0014</td>\n",
              "      <td>F</td>\n",
              "      <td>111</td>\n",
              "      <td>151531</td>\n",
              "      <td>28</td>\n",
              "      <td>40.289999</td>\n",
              "      <td>2</td>\n",
              "      <td>0</td>\n",
              "    </tr>\n",
              "    <tr>\n",
              "      <th>1141</th>\n",
              "      <td>1314414</td>\n",
              "      <td>campanha3</td>\n",
              "      <td>179981</td>\n",
              "      <td>0.0014</td>\n",
              "      <td>F</td>\n",
              "      <td>113</td>\n",
              "      <td>790253</td>\n",
              "      <td>135</td>\n",
              "      <td>198.710000</td>\n",
              "      <td>8</td>\n",
              "      <td>2</td>\n",
              "    </tr>\n",
              "    <tr>\n",
              "      <th>1142</th>\n",
              "      <td>1314415</td>\n",
              "      <td>campanha3</td>\n",
              "      <td>179982</td>\n",
              "      <td>0.0014</td>\n",
              "      <td>F</td>\n",
              "      <td>114</td>\n",
              "      <td>513161</td>\n",
              "      <td>114</td>\n",
              "      <td>165.609999</td>\n",
              "      <td>5</td>\n",
              "      <td>2</td>\n",
              "    </tr>\n",
              "  </tbody>\n",
              "</table>\n",
              "</div>"
            ],
            "text/plain": [
              "      id_anuncio id_campanha  ...  Total_Conversion  Approved_Conversion\n",
              "1138     1314410   campanha3  ...                13                    2\n",
              "1139     1314411   campanha3  ...                 3                    0\n",
              "1140     1314412   campanha3  ...                 2                    0\n",
              "1141     1314414   campanha3  ...                 8                    2\n",
              "1142     1314415   campanha3  ...                 5                    2\n",
              "\n",
              "[5 rows x 11 columns]"
            ]
          },
          "metadata": {
            "tags": []
          },
          "execution_count": 64
        }
      ]
    },
    {
      "cell_type": "code",
      "metadata": {
        "id": "X2SvNbLEn14C"
      },
      "source": [
        "df = df.replace('M',1)\n",
        "df = df.replace('F',0)"
      ],
      "execution_count": 67,
      "outputs": []
    },
    {
      "cell_type": "code",
      "metadata": {
        "colab": {
          "base_uri": "https://localhost:8080/",
          "height": 206
        },
        "id": "roUWvuWWoKYi",
        "outputId": "4a09694e-2c5b-430f-e359-09a163a4ce75"
      },
      "source": [
        "df.head()"
      ],
      "execution_count": 68,
      "outputs": [
        {
          "output_type": "execute_result",
          "data": {
            "text/html": [
              "<div>\n",
              "<style scoped>\n",
              "    .dataframe tbody tr th:only-of-type {\n",
              "        vertical-align: middle;\n",
              "    }\n",
              "\n",
              "    .dataframe tbody tr th {\n",
              "        vertical-align: top;\n",
              "    }\n",
              "\n",
              "    .dataframe thead th {\n",
              "        text-align: right;\n",
              "    }\n",
              "</style>\n",
              "<table border=\"1\" class=\"dataframe\">\n",
              "  <thead>\n",
              "    <tr style=\"text-align: right;\">\n",
              "      <th></th>\n",
              "      <th>id_anuncio</th>\n",
              "      <th>id_campanha</th>\n",
              "      <th>fb_campanha</th>\n",
              "      <th>age</th>\n",
              "      <th>gender</th>\n",
              "      <th>interest</th>\n",
              "      <th>Impressions</th>\n",
              "      <th>Clicks</th>\n",
              "      <th>Spent</th>\n",
              "      <th>Total_Conversion</th>\n",
              "      <th>Approved_Conversion</th>\n",
              "    </tr>\n",
              "  </thead>\n",
              "  <tbody>\n",
              "    <tr>\n",
              "      <th>0</th>\n",
              "      <td>708746</td>\n",
              "      <td>campanha1</td>\n",
              "      <td>103916</td>\n",
              "      <td>0.0011</td>\n",
              "      <td>1</td>\n",
              "      <td>15</td>\n",
              "      <td>7350</td>\n",
              "      <td>1</td>\n",
              "      <td>1.43</td>\n",
              "      <td>2</td>\n",
              "      <td>1</td>\n",
              "    </tr>\n",
              "    <tr>\n",
              "      <th>1</th>\n",
              "      <td>708749</td>\n",
              "      <td>campanha1</td>\n",
              "      <td>103917</td>\n",
              "      <td>0.0011</td>\n",
              "      <td>1</td>\n",
              "      <td>16</td>\n",
              "      <td>17861</td>\n",
              "      <td>2</td>\n",
              "      <td>1.82</td>\n",
              "      <td>2</td>\n",
              "      <td>0</td>\n",
              "    </tr>\n",
              "    <tr>\n",
              "      <th>2</th>\n",
              "      <td>708771</td>\n",
              "      <td>campanha1</td>\n",
              "      <td>103920</td>\n",
              "      <td>0.0011</td>\n",
              "      <td>1</td>\n",
              "      <td>20</td>\n",
              "      <td>693</td>\n",
              "      <td>0</td>\n",
              "      <td>0.00</td>\n",
              "      <td>1</td>\n",
              "      <td>0</td>\n",
              "    </tr>\n",
              "    <tr>\n",
              "      <th>3</th>\n",
              "      <td>708815</td>\n",
              "      <td>campanha1</td>\n",
              "      <td>103928</td>\n",
              "      <td>0.0011</td>\n",
              "      <td>1</td>\n",
              "      <td>28</td>\n",
              "      <td>4259</td>\n",
              "      <td>1</td>\n",
              "      <td>1.25</td>\n",
              "      <td>1</td>\n",
              "      <td>0</td>\n",
              "    </tr>\n",
              "    <tr>\n",
              "      <th>4</th>\n",
              "      <td>708818</td>\n",
              "      <td>campanha1</td>\n",
              "      <td>103928</td>\n",
              "      <td>0.0011</td>\n",
              "      <td>1</td>\n",
              "      <td>28</td>\n",
              "      <td>4133</td>\n",
              "      <td>1</td>\n",
              "      <td>1.29</td>\n",
              "      <td>1</td>\n",
              "      <td>1</td>\n",
              "    </tr>\n",
              "  </tbody>\n",
              "</table>\n",
              "</div>"
            ],
            "text/plain": [
              "   id_anuncio id_campanha  ...  Total_Conversion  Approved_Conversion\n",
              "0      708746   campanha1  ...                 2                    1\n",
              "1      708749   campanha1  ...                 2                    0\n",
              "2      708771   campanha1  ...                 1                    0\n",
              "3      708815   campanha1  ...                 1                    0\n",
              "4      708818   campanha1  ...                 1                    1\n",
              "\n",
              "[5 rows x 11 columns]"
            ]
          },
          "metadata": {
            "tags": []
          },
          "execution_count": 68
        }
      ]
    },
    {
      "cell_type": "code",
      "metadata": {
        "id": "EMPEFigVoh6J"
      },
      "source": [
        " X = df[['age', 'gender', 'interest','Impressions', 'Clicks']]"
      ],
      "execution_count": 69,
      "outputs": []
    },
    {
      "cell_type": "code",
      "metadata": {
        "id": "mbVzw8C7pXtL"
      },
      "source": [
        "Y = df['Spent']"
      ],
      "execution_count": 70,
      "outputs": []
    },
    {
      "cell_type": "code",
      "metadata": {
        "id": "-fytqBeBpjOQ"
      },
      "source": [
        "X_train, X_test, Y_train, Y_test = train_test_split(X, Y, test_size = 0.3, random_state = 32)"
      ],
      "execution_count": 75,
      "outputs": []
    },
    {
      "cell_type": "code",
      "metadata": {
        "colab": {
          "base_uri": "https://localhost:8080/"
        },
        "id": "GGZc59QHrC8F",
        "outputId": "fc975203-a8b3-4896-a960-63a529877aba"
      },
      "source": [
        "X_train.shape"
      ],
      "execution_count": 76,
      "outputs": [
        {
          "output_type": "execute_result",
          "data": {
            "text/plain": [
              "(800, 5)"
            ]
          },
          "metadata": {
            "tags": []
          },
          "execution_count": 76
        }
      ]
    },
    {
      "cell_type": "code",
      "metadata": {
        "colab": {
          "base_uri": "https://localhost:8080/"
        },
        "id": "Ml8-yKfBrRbj",
        "outputId": "08149b17-1d12-49ec-9eb4-3e54820e978d"
      },
      "source": [
        "X_test.shape"
      ],
      "execution_count": 77,
      "outputs": [
        {
          "output_type": "execute_result",
          "data": {
            "text/plain": [
              "(343, 5)"
            ]
          },
          "metadata": {
            "tags": []
          },
          "execution_count": 77
        }
      ]
    },
    {
      "cell_type": "code",
      "metadata": {
        "colab": {
          "base_uri": "https://localhost:8080/",
          "height": 206
        },
        "id": "XD4TWeHOrZTG",
        "outputId": "c469fcd2-002c-4547-def3-ebb36f9066b5"
      },
      "source": [
        "X_train.head()"
      ],
      "execution_count": 78,
      "outputs": [
        {
          "output_type": "execute_result",
          "data": {
            "text/html": [
              "<div>\n",
              "<style scoped>\n",
              "    .dataframe tbody tr th:only-of-type {\n",
              "        vertical-align: middle;\n",
              "    }\n",
              "\n",
              "    .dataframe tbody tr th {\n",
              "        vertical-align: top;\n",
              "    }\n",
              "\n",
              "    .dataframe thead th {\n",
              "        text-align: right;\n",
              "    }\n",
              "</style>\n",
              "<table border=\"1\" class=\"dataframe\">\n",
              "  <thead>\n",
              "    <tr style=\"text-align: right;\">\n",
              "      <th></th>\n",
              "      <th>age</th>\n",
              "      <th>gender</th>\n",
              "      <th>interest</th>\n",
              "      <th>Impressions</th>\n",
              "      <th>Clicks</th>\n",
              "    </tr>\n",
              "  </thead>\n",
              "  <tbody>\n",
              "    <tr>\n",
              "      <th>640</th>\n",
              "      <td>0.0012</td>\n",
              "      <td>1</td>\n",
              "      <td>21</td>\n",
              "      <td>271091</td>\n",
              "      <td>42</td>\n",
              "    </tr>\n",
              "    <tr>\n",
              "      <th>852</th>\n",
              "      <td>0.0011</td>\n",
              "      <td>0</td>\n",
              "      <td>24</td>\n",
              "      <td>185665</td>\n",
              "      <td>39</td>\n",
              "    </tr>\n",
              "    <tr>\n",
              "      <th>311</th>\n",
              "      <td>0.0013</td>\n",
              "      <td>1</td>\n",
              "      <td>29</td>\n",
              "      <td>10090</td>\n",
              "      <td>2</td>\n",
              "    </tr>\n",
              "    <tr>\n",
              "      <th>803</th>\n",
              "      <td>0.0014</td>\n",
              "      <td>1</td>\n",
              "      <td>29</td>\n",
              "      <td>563074</td>\n",
              "      <td>86</td>\n",
              "    </tr>\n",
              "    <tr>\n",
              "      <th>105</th>\n",
              "      <td>0.0014</td>\n",
              "      <td>0</td>\n",
              "      <td>10</td>\n",
              "      <td>73634</td>\n",
              "      <td>23</td>\n",
              "    </tr>\n",
              "  </tbody>\n",
              "</table>\n",
              "</div>"
            ],
            "text/plain": [
              "        age  gender  interest  Impressions  Clicks\n",
              "640  0.0012       1        21       271091      42\n",
              "852  0.0011       0        24       185665      39\n",
              "311  0.0013       1        29        10090       2\n",
              "803  0.0014       1        29       563074      86\n",
              "105  0.0014       0        10        73634      23"
            ]
          },
          "metadata": {
            "tags": []
          },
          "execution_count": 78
        }
      ]
    },
    {
      "cell_type": "code",
      "metadata": {
        "colab": {
          "base_uri": "https://localhost:8080/"
        },
        "id": "G09fVISJrdqz",
        "outputId": "fa9047c0-da27-4b85-91f4-271a6bb790a6"
      },
      "source": [
        "Y_train.head()"
      ],
      "execution_count": 79,
      "outputs": [
        {
          "output_type": "execute_result",
          "data": {
            "text/plain": [
              "640     78.040000\n",
              "852     62.140001\n",
              "311      2.650000\n",
              "803    142.709999\n",
              "105     32.980000\n",
              "Name: Spent, dtype: float64"
            ]
          },
          "metadata": {
            "tags": []
          },
          "execution_count": 79
        }
      ]
    },
    {
      "cell_type": "code",
      "metadata": {
        "id": "XAdQ-R2yrpwz"
      },
      "source": [
        "model = LinearRegression()"
      ],
      "execution_count": 81,
      "outputs": []
    },
    {
      "cell_type": "code",
      "metadata": {
        "colab": {
          "base_uri": "https://localhost:8080/"
        },
        "id": "xUzb0x4PsNBI",
        "outputId": "cec1a26b-c4a7-4611-d25f-f76ec49a34d9"
      },
      "source": [
        "model"
      ],
      "execution_count": 82,
      "outputs": [
        {
          "output_type": "execute_result",
          "data": {
            "text/plain": [
              "LinearRegression(copy_X=True, fit_intercept=True, n_jobs=None, normalize=False)"
            ]
          },
          "metadata": {
            "tags": []
          },
          "execution_count": 82
        }
      ]
    },
    {
      "cell_type": "code",
      "metadata": {
        "colab": {
          "base_uri": "https://localhost:8080/"
        },
        "id": "xTalUFBUsRNp",
        "outputId": "6969c235-bc6a-4bbd-a039-29410dd1f2e9"
      },
      "source": [
        "model.fit(X_train, Y_train)"
      ],
      "execution_count": 83,
      "outputs": [
        {
          "output_type": "execute_result",
          "data": {
            "text/plain": [
              "LinearRegression(copy_X=True, fit_intercept=True, n_jobs=None, normalize=False)"
            ]
          },
          "metadata": {
            "tags": []
          },
          "execution_count": 83
        }
      ]
    },
    {
      "cell_type": "code",
      "metadata": {
        "colab": {
          "base_uri": "https://localhost:8080/"
        },
        "id": "a6mZHUrfsm1k",
        "outputId": "da797f44-fa1b-4764-841e-2375af5e4ec6"
      },
      "source": [
        "model.coef_"
      ],
      "execution_count": 84,
      "outputs": [
        {
          "output_type": "execute_result",
          "data": {
            "text/plain": [
              "array([ 1.11543951e+04,  2.54714226e+00, -6.87113770e-02,  8.85162529e-05,\n",
              "        1.06012421e+00])"
            ]
          },
          "metadata": {
            "tags": []
          },
          "execution_count": 84
        }
      ]
    },
    {
      "cell_type": "code",
      "metadata": {
        "colab": {
          "base_uri": "https://localhost:8080/"
        },
        "id": "7Hjy54kas2lb",
        "outputId": "05ef24f4-c1c9-48b2-99c7-8fc43ec03adb"
      },
      "source": [
        "model.intercept_"
      ],
      "execution_count": 85,
      "outputs": [
        {
          "output_type": "execute_result",
          "data": {
            "text/plain": [
              "-13.191111867749427"
            ]
          },
          "metadata": {
            "tags": []
          },
          "execution_count": 85
        }
      ]
    },
    {
      "cell_type": "markdown",
      "metadata": {
        "id": "AwCJVlxVtHMo"
      },
      "source": [
        "###Coeficientes da equação y = ax + b acima"
      ]
    },
    {
      "cell_type": "code",
      "metadata": {
        "colab": {
          "base_uri": "https://localhost:8080/"
        },
        "id": "HCegsubLtSIi",
        "outputId": "0384b35f-16c8-4e93-9f6a-b4c85cf7ed12"
      },
      "source": [
        "model.score(X_test, Y_test)*100"
      ],
      "execution_count": 86,
      "outputs": [
        {
          "output_type": "execute_result",
          "data": {
            "text/plain": [
              "99.4899077013531"
            ]
          },
          "metadata": {
            "tags": []
          },
          "execution_count": 86
        }
      ]
    },
    {
      "cell_type": "markdown",
      "metadata": {
        "id": "1sCPNS3FuNmd"
      },
      "source": [
        "###Predição para Campanhas no Facebook"
      ]
    },
    {
      "cell_type": "code",
      "metadata": {
        "colab": {
          "base_uri": "https://localhost:8080/",
          "height": 206
        },
        "id": "nqARkVafuT3L",
        "outputId": "d6c385fa-e5d3-4f65-a27c-98bb02d51dce"
      },
      "source": [
        "df.head()"
      ],
      "execution_count": 87,
      "outputs": [
        {
          "output_type": "execute_result",
          "data": {
            "text/html": [
              "<div>\n",
              "<style scoped>\n",
              "    .dataframe tbody tr th:only-of-type {\n",
              "        vertical-align: middle;\n",
              "    }\n",
              "\n",
              "    .dataframe tbody tr th {\n",
              "        vertical-align: top;\n",
              "    }\n",
              "\n",
              "    .dataframe thead th {\n",
              "        text-align: right;\n",
              "    }\n",
              "</style>\n",
              "<table border=\"1\" class=\"dataframe\">\n",
              "  <thead>\n",
              "    <tr style=\"text-align: right;\">\n",
              "      <th></th>\n",
              "      <th>id_anuncio</th>\n",
              "      <th>id_campanha</th>\n",
              "      <th>fb_campanha</th>\n",
              "      <th>age</th>\n",
              "      <th>gender</th>\n",
              "      <th>interest</th>\n",
              "      <th>Impressions</th>\n",
              "      <th>Clicks</th>\n",
              "      <th>Spent</th>\n",
              "      <th>Total_Conversion</th>\n",
              "      <th>Approved_Conversion</th>\n",
              "    </tr>\n",
              "  </thead>\n",
              "  <tbody>\n",
              "    <tr>\n",
              "      <th>0</th>\n",
              "      <td>708746</td>\n",
              "      <td>campanha1</td>\n",
              "      <td>103916</td>\n",
              "      <td>0.0011</td>\n",
              "      <td>1</td>\n",
              "      <td>15</td>\n",
              "      <td>7350</td>\n",
              "      <td>1</td>\n",
              "      <td>1.43</td>\n",
              "      <td>2</td>\n",
              "      <td>1</td>\n",
              "    </tr>\n",
              "    <tr>\n",
              "      <th>1</th>\n",
              "      <td>708749</td>\n",
              "      <td>campanha1</td>\n",
              "      <td>103917</td>\n",
              "      <td>0.0011</td>\n",
              "      <td>1</td>\n",
              "      <td>16</td>\n",
              "      <td>17861</td>\n",
              "      <td>2</td>\n",
              "      <td>1.82</td>\n",
              "      <td>2</td>\n",
              "      <td>0</td>\n",
              "    </tr>\n",
              "    <tr>\n",
              "      <th>2</th>\n",
              "      <td>708771</td>\n",
              "      <td>campanha1</td>\n",
              "      <td>103920</td>\n",
              "      <td>0.0011</td>\n",
              "      <td>1</td>\n",
              "      <td>20</td>\n",
              "      <td>693</td>\n",
              "      <td>0</td>\n",
              "      <td>0.00</td>\n",
              "      <td>1</td>\n",
              "      <td>0</td>\n",
              "    </tr>\n",
              "    <tr>\n",
              "      <th>3</th>\n",
              "      <td>708815</td>\n",
              "      <td>campanha1</td>\n",
              "      <td>103928</td>\n",
              "      <td>0.0011</td>\n",
              "      <td>1</td>\n",
              "      <td>28</td>\n",
              "      <td>4259</td>\n",
              "      <td>1</td>\n",
              "      <td>1.25</td>\n",
              "      <td>1</td>\n",
              "      <td>0</td>\n",
              "    </tr>\n",
              "    <tr>\n",
              "      <th>4</th>\n",
              "      <td>708818</td>\n",
              "      <td>campanha1</td>\n",
              "      <td>103928</td>\n",
              "      <td>0.0011</td>\n",
              "      <td>1</td>\n",
              "      <td>28</td>\n",
              "      <td>4133</td>\n",
              "      <td>1</td>\n",
              "      <td>1.29</td>\n",
              "      <td>1</td>\n",
              "      <td>1</td>\n",
              "    </tr>\n",
              "  </tbody>\n",
              "</table>\n",
              "</div>"
            ],
            "text/plain": [
              "   id_anuncio id_campanha  ...  Total_Conversion  Approved_Conversion\n",
              "0      708746   campanha1  ...                 2                    1\n",
              "1      708749   campanha1  ...                 2                    0\n",
              "2      708771   campanha1  ...                 1                    0\n",
              "3      708815   campanha1  ...                 1                    0\n",
              "4      708818   campanha1  ...                 1                    1\n",
              "\n",
              "[5 rows x 11 columns]"
            ]
          },
          "metadata": {
            "tags": []
          },
          "execution_count": 87
        }
      ]
    },
    {
      "cell_type": "code",
      "metadata": {
        "colab": {
          "base_uri": "https://localhost:8080/"
        },
        "id": "kAbFHlycuZsx",
        "outputId": "014d7020-f42e-41b2-c0dd-83d08dc053cf"
      },
      "source": [
        "age = float(input(\"Idade:\"))"
      ],
      "execution_count": 92,
      "outputs": [
        {
          "output_type": "stream",
          "text": [
            "Idade:0.0011\n"
          ],
          "name": "stdout"
        }
      ]
    },
    {
      "cell_type": "code",
      "metadata": {
        "colab": {
          "base_uri": "https://localhost:8080/"
        },
        "id": "1JFsQ944u14x",
        "outputId": "ad7967e8-884b-483a-d08d-16eb4a636623"
      },
      "source": [
        "age"
      ],
      "execution_count": 94,
      "outputs": [
        {
          "output_type": "execute_result",
          "data": {
            "text/plain": [
              "0.0011"
            ]
          },
          "metadata": {
            "tags": []
          },
          "execution_count": 94
        }
      ]
    },
    {
      "cell_type": "code",
      "metadata": {
        "colab": {
          "base_uri": "https://localhost:8080/"
        },
        "id": "sRxqG6RkvNec",
        "outputId": "567a13ea-37bd-4951-f3c1-dbc5fd427ec5"
      },
      "source": [
        "gender = int(input(\"Genero:\"))\n",
        "interest = int(input(\"Interesse:\"))\n",
        "Impressions = int(input(\"Exibições:\"))\n",
        "Clicks = int(input(\"Cliques no anuncio:\"))\n"
      ],
      "execution_count": 96,
      "outputs": [
        {
          "output_type": "stream",
          "text": [
            "Genero:1\n",
            "Interesse:28\n",
            "Exibições:8000\n",
            "Cliques no anuncio:1\n"
          ],
          "name": "stdout"
        }
      ]
    },
    {
      "cell_type": "code",
      "metadata": {
        "id": "9wUlnrG3wSsu"
      },
      "source": [
        "pred = model.predict([[age, gender, interest, Impressions, Clicks]])"
      ],
      "execution_count": 97,
      "outputs": []
    },
    {
      "cell_type": "markdown",
      "metadata": {
        "id": "J4wTcX5Kxeq2"
      },
      "source": [
        "###Valor pago para mostrar o anúncio apenas uma vez para uma pessoa de 30 a 34 anos, do gênero masculino, dentre 8000 exibições listado abaixo"
      ]
    },
    {
      "cell_type": "code",
      "metadata": {
        "colab": {
          "base_uri": "https://localhost:8080/"
        },
        "id": "Y2hikfndxCgF",
        "outputId": "95ad8edd-7bbe-4fd7-9b2f-95c7247589b9"
      },
      "source": [
        "print(pred)"
      ],
      "execution_count": 98,
      "outputs": [
        {
          "output_type": "stream",
          "text": [
            "[1.47020066]\n"
          ],
          "name": "stdout"
        }
      ]
    }
  ]
}